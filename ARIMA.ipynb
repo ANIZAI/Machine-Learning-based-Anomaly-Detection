{
  "nbformat": 4,
  "nbformat_minor": 0,
  "metadata": {
    "colab": {
      "name": "ARIMA.ipynb",
      "provenance": [],
      "authorship_tag": "ABX9TyNwoi1ndP/f9nCmojg76xrl",
      "include_colab_link": true
    },
    "kernelspec": {
      "name": "python3",
      "display_name": "Python 3"
    },
    "language_info": {
      "name": "python"
    }
  },
  "cells": [
    {
      "cell_type": "markdown",
      "metadata": {
        "id": "view-in-github",
        "colab_type": "text"
      },
      "source": [
        "<a href=\"https://colab.research.google.com/github/ANIZAI/Machine-Learning-based-Anomaly-Detection/blob/main/ARIMA.ipynb\" target=\"_parent\"><img src=\"https://colab.research.google.com/assets/colab-badge.svg\" alt=\"Open In Colab\"/></a>"
      ]
    },
    {
      "cell_type": "code",
      "metadata": {
        "colab": {
          "base_uri": "https://localhost:8080/",
          "height": 442
        },
        "id": "wNcVPzU7RqOS",
        "outputId": "a729de4a-3bff-44a9-cbef-a142c4ffe743"
      },
      "source": [
        "from pandas import read_csv\n",
        "from pandas import datetime\n",
        "from matplotlib import pyplot\n",
        "\n",
        "def parser(x):\n",
        "\treturn datetime.strptime(x, '%Y-%m-%d %H:%M:%S')\n",
        "\n",
        "series = read_csv('BatteryTempCPV6Averaged.csv', header=0, parse_dates=[0], index_col=0, squeeze=True, date_parser=parser)\n",
        "print(series.head())\n",
        "series.plot()\n",
        "pyplot.show()"
      ],
      "execution_count": null,
      "outputs": [
        {
          "output_type": "stream",
          "text": [
            "/usr/local/lib/python3.7/dist-packages/ipykernel_launcher.py:2: FutureWarning: The pandas.datetime class is deprecated and will be removed from pandas in a future version. Import from datetime module instead.\n",
            "  \n"
          ],
          "name": "stderr"
        },
        {
          "output_type": "stream",
          "text": [
            "time (yyyy-MM-dd'T'HH:mm:ss.SSS)\n",
            "2004-02-13 13:02:30    3.306531\n",
            "2004-02-13 13:07:30    3.306531\n",
            "2004-02-13 13:12:30    2.994446\n",
            "2004-02-13 13:17:30    2.932029\n",
            "2004-02-13 13:22:30    2.911223\n",
            "Name: TCPV6T (C), dtype: float64\n"
          ],
          "name": "stdout"
        },
        {
          "output_type": "display_data",
          "data": {
            "image/png": "[encoded data removed]",
            "text/plain": [
              "<Figure size 432x288 with 1 Axes>"
            ]
          },
          "metadata": {
            "tags": [],
            "needs_background": "light"
          }
        }
      ]
    },
    {
      "cell_type": "code",
      "metadata": {
        "colab": {
          "base_uri": "https://localhost:8080/",
          "height": 1000
        },
        "id": "_s4faFDRXuJU",
        "outputId": "e5c68ca4-606b-41d4-a0a4-2645aa1d0fe6"
      },
      "source": [
        "# fit an ARIMA model and plot residual errors\n",
        "from pandas import datetime\n",
        "from pandas import read_csv\n",
        "from pandas import DataFrame\n",
        "from statsmodels.tsa.arima.model import ARIMA\n",
        "from matplotlib import pyplot\n",
        "# load dataset\n",
        "def parser(x):\n",
        "\treturn datetime.strptime(x, '%Y-%m-%d %H:%M:%S')\n",
        "series = read_csv('BatteryTempCPV6Averaged.csv', header=0, index_col=0, parse_dates=True, squeeze=True, date_parser=parser)\n",
        "series.index = series.index.to_period('M')\n",
        "# fit model\n",
        "model = ARIMA(series, order=(5,1,0))\n",
        "model_fit = model.fit()\n",
        "# summary of fit model\n",
        "print(model_fit.summary())\n",
        "# line plot of residuals\n",
        "residuals = DataFrame(model_fit.resid)\n",
        "residuals.plot()\n",
        "pyplot.show()\n",
        "# density plot of residuals\n",
        "residuals.plot(kind='kde')\n",
        "pyplot.show()\n",
        "# summary stats of residuals\n",
        "print(residuals.describe())"
      ],
      "execution_count": null,
      "outputs": [
        {
          "output_type": "stream",
          "text": [
            "/usr/local/lib/python3.7/dist-packages/ipykernel_launcher.py:2: FutureWarning: The pandas.datetime class is deprecated and will be removed from pandas in a future version. Import from datetime module instead.\n",
            "  \n"
          ],
          "name": "stderr"
        },
        {
          "output_type": "stream",
          "text": [
            "                               SARIMAX Results                                \n",
            "==============================================================================\n",
            "Dep. Variable:             TCPV6T (C)   No. Observations:              1518180\n",
            "Model:                 ARIMA(5, 1, 0)   Log Likelihood             -328753.965\n",
            "Date:                Thu, 20 May 2021   AIC                         657519.930\n",
            "Time:                        15:34:43   BIC                         657593.328\n",
            "Sample:                    02-29-2004   HQIC                        657539.797\n",
            "                         - 10-31-2018                                         \n",
            "Covariance Type:                  opg                                         \n",
            "==============================================================================\n",
            "                 coef    std err          z      P>|z|      [0.025      0.975]\n",
            "------------------------------------------------------------------------------\n",
            "ar.L1          0.1566   6.09e-05   2573.164      0.000       0.156       0.157\n",
            "ar.L2          0.0910   8.02e-05   1134.617      0.000       0.091       0.091\n",
            "ar.L3          0.0538      0.000    494.173      0.000       0.054       0.054\n",
            "ar.L4         -0.0092      0.000    -62.921      0.000      -0.010      -0.009\n",
            "ar.L5         -0.0601      0.000   -502.628      0.000      -0.060      -0.060\n",
            "sigma2         0.0903   3.89e-06   2.32e+04      0.000       0.090       0.090\n",
            "===================================================================================\n",
            "Ljung-Box (L1) (Q):                  19.89   Jarque-Bera (JB):      190964370927.44\n",
            "Prob(Q):                              0.00   Prob(JB):                         0.00\n",
            "Heteroskedasticity (H):               3.58   Skew:                            -0.65\n",
            "Prob(H) (two-sided):                  0.00   Kurtosis:                      1740.48\n",
            "===================================================================================\n",
            "\n",
            "Warnings:\n",
            "[1] Covariance matrix calculated using the outer product of gradients (complex-step).\n"
          ],
          "name": "stdout"
        },
        {
          "output_type": "display_data",
          "data": {
            "image/png": "[encoded data removed]",
            "text/plain": [
              "<Figure size 432x288 with 1 Axes>"
            ]
          },
          "metadata": {
            "tags": [],
            "needs_background": "light"
          }
        },
        {
          "output_type": "display_data",
          "data": {
            "image/png": "[encoded data removed]",
            "text/plain": [
              "<Figure size 432x288 with 1 Axes>"
            ]
          },
          "metadata": {
            "tags": [],
            "needs_background": "light"
          }
        },
        {
          "output_type": "stream",
          "text": [
            "                  0\n",
            "count  1.518180e+06\n",
            "mean   5.042251e-07\n",
            "std    3.004861e-01\n",
            "min   -2.749984e+01\n",
            "25%   -3.682844e-02\n",
            "50%    0.000000e+00\n",
            "75%    3.260972e-02\n",
            "max    3.306738e+01\n"
          ],
          "name": "stdout"
        }
      ]
    },
    {
      "cell_type": "code",
      "metadata": {
        "colab": {
          "base_uri": "https://localhost:8080/"
        },
        "id": "D5HdnvRDgGIO",
        "outputId": "bbc5c621-4aee-465b-db6c-6291df273565"
      },
      "source": [
        "# evaluate an ARIMA model using a walk-forward validation\n",
        "from pandas import read_csv\n",
        "from pandas import datetime\n",
        "from matplotlib import pyplot\n",
        "from statsmodels.tsa.arima.model import ARIMA\n",
        "from sklearn.metrics import mean_squared_error\n",
        "from math import sqrt\n",
        "# load dataset\n",
        "def parser(x):\n",
        "\treturn datetime.strptime(x, '%Y-%m-%d %H:%M:%S')\n",
        "series = read_csv('BatteryTempCPV6Averaged.csv', header=0, index_col=0, parse_dates=True, squeeze=True, date_parser=parser)\n",
        "series.index = series.index.to_period('M')\n",
        "# split into train and test sets\n",
        "X = series.values\n",
        "size = int(len(X) * 0.66)\n",
        "train, test = X[0:size], X[size:len(X)]\n",
        "history = [x for x in train]\n",
        "predictions = list()\n",
        "# walk-forward validation\n",
        "for t in range(len(test)):\n",
        "\tmodel = ARIMA(history, order=(5,1,0))\n",
        "\tmodel_fit = model.fit()\n",
        "\toutput = model_fit.forecast()\n",
        "\tyhat = output[0]\n",
        "\tpredictions.append(yhat)\n",
        "\tobs = test[t]\n",
        "\thistory.append(obs)\n",
        "\tprint('predicted=%f, expected=%f' % (yhat, obs))\n",
        "# evaluate forecasts\n",
        "rmse = sqrt(mean_squared_error(test, predictions))\n",
        "print('Test RMSE: %.3f' % rmse)\n",
        "# plot forecasts against actual outcomes\n",
        "pyplot.plot(test)\n",
        "pyplot.plot(predictions, color='red')\n",
        "pyplot.show()"
      ],
      "execution_count": null,
      "outputs": [
        {
          "output_type": "stream",
          "text": [
            "/usr/local/lib/python3.7/dist-packages/ipykernel_launcher.py:3: FutureWarning: The pandas.datetime class is deprecated and will be removed from pandas in a future version. Import from datetime module instead.\n",
            "  This is separate from the ipykernel package so we can avoid doing imports until\n"
          ],
          "name": "stderr"
        },
        {
          "output_type": "stream",
          "text": [
            "predicted=3.699120, expected=3.699120\n",
            "predicted=3.699120, expected=3.459205\n",
            "predicted=3.393405, expected=3.306531\n",
            "predicted=3.230422, expected=3.306531\n",
            "predicted=3.268207, expected=3.306531\n"
          ],
          "name": "stdout"
        },
        {
          "output_type": "stream",
          "text": [
            "/usr/local/lib/python3.7/dist-packages/statsmodels/base/model.py:568: ConvergenceWarning: Maximum Likelihood optimization failed to converge. Check mle_retvals\n",
            "  ConvergenceWarning)\n"
          ],
          "name": "stderr"
        },
        {
          "output_type": "stream",
          "text": [
            "predicted=3.304306, expected=3.524636\n",
            "predicted=3.612687, expected=3.699120\n",
            "predicted=3.792705, expected=4.068545\n"
          ],
          "name": "stdout"
        },
        {
          "output_type": "stream",
          "text": [
            "/usr/local/lib/python3.7/dist-packages/statsmodels/base/model.py:568: ConvergenceWarning: Maximum Likelihood optimization failed to converge. Check mle_retvals\n",
            "  ConvergenceWarning)\n"
          ],
          "name": "stderr"
        },
        {
          "output_type": "stream",
          "text": [
            "predicted=4.209797, expected=4.089068\n",
            "predicted=4.151898, expected=4.454932\n"
          ],
          "name": "stdout"
        },
        {
          "output_type": "stream",
          "text": [
            "/usr/local/lib/python3.7/dist-packages/statsmodels/base/model.py:568: ConvergenceWarning: Maximum Likelihood optimization failed to converge. Check mle_retvals\n",
            "  ConvergenceWarning)\n"
          ],
          "name": "stderr"
        },
        {
          "output_type": "stream",
          "text": [
            "predicted=4.556765, expected=4.292955\n",
            "predicted=4.272686, expected=4.089068\n",
            "predicted=3.999200, expected=4.089068\n",
            "predicted=4.034189, expected=4.089068\n",
            "predicted=4.045616, expected=4.089068\n",
            "predicted=4.111617, expected=3.924880\n",
            "predicted=3.899355, expected=3.699120\n",
            "predicted=3.613773, expected=3.699120\n"
          ],
          "name": "stdout"
        },
        {
          "output_type": "stream",
          "text": [
            "/usr/local/lib/python3.7/dist-packages/statsmodels/base/model.py:568: ConvergenceWarning: Maximum Likelihood optimization failed to converge. Check mle_retvals\n",
            "  ConvergenceWarning)\n"
          ],
          "name": "stderr"
        },
        {
          "output_type": "stream",
          "text": [
            "predicted=3.655587, expected=3.699120\n",
            "predicted=3.689239, expected=3.699120\n",
            "predicted=3.722637, expected=3.699120\n",
            "predicted=3.720718, expected=3.699120\n",
            "predicted=3.699120, expected=3.699120\n",
            "predicted=3.699120, expected=3.699120\n",
            "predicted=3.699120, expected=3.699120\n",
            "predicted=3.699120, expected=3.699120\n",
            "predicted=3.699120, expected=3.863309\n"
          ],
          "name": "stdout"
        },
        {
          "output_type": "stream",
          "text": [
            "/usr/local/lib/python3.7/dist-packages/statsmodels/base/model.py:568: ConvergenceWarning: Maximum Likelihood optimization failed to converge. Check mle_retvals\n",
            "  ConvergenceWarning)\n"
          ],
          "name": "stderr"
        },
        {
          "output_type": "stream",
          "text": [
            "predicted=3.908339, expected=4.089068\n",
            "predicted=4.174416, expected=4.435676\n",
            "predicted=4.574271, expected=4.476454\n",
            "predicted=4.546981, expected=4.476454\n",
            "predicted=4.482646, expected=4.476454\n",
            "predicted=4.445677, expected=4.089068\n",
            "predicted=3.948253, expected=4.089068\n",
            "predicted=4.029886, expected=4.089068\n",
            "predicted=4.062368, expected=4.089068\n",
            "predicted=4.102469, expected=4.089068\n"
          ],
          "name": "stdout"
        }
      ]
    }
  ]
}