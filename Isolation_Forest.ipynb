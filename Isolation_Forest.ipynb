{
  "nbformat": 4,
  "nbformat_minor": 0,
  "metadata": {
    "colab": {
      "name": "Isolation Forest.ipynb",
      "provenance": [],
      "authorship_tag": "ABX9TyMXSD3umrM7ukWAyH5/LEps",
      "include_colab_link": true
    },
    "kernelspec": {
      "display_name": "Python 3",
      "name": "python3"
    },
    "language_info": {
      "name": "python"
    }
  },
  "cells": [
    {
      "cell_type": "markdown",
      "metadata": {
        "id": "view-in-github",
        "colab_type": "text"
      },
      "source": [
        "<a href=\"https://colab.research.google.com/github/ANIZAI/Machine-Learning-based-Anomaly-Detection/blob/main/Isolation_Forest.ipynb\" target=\"_parent\"><img src=\"https://colab.research.google.com/assets/colab-badge.svg\" alt=\"Open In Colab\"/></a>"
      ]
    },
    {
      "cell_type": "code",
      "metadata": {
        "colab": {
          "base_uri": "https://localhost:8080/"
        },
        "id": "qgv97h3WioWF",
        "outputId": "eb8a682d-97e1-416f-a636-e428d60cc3b5"
      },
      "source": [
        "import numpy as np\n",
        "import pandas as pd \n",
        "import matplotlib as mpl\n",
        "import seaborn as sns \n",
        "import matplotlib.dates as md\n",
        "import matplotlib.pyplot as plt\n",
        "from mpl_toolkits.axes_grid1 import host_subplot\n",
        "import mpl_toolkits.axisartist as AA\n",
        "import json\n",
        "plt.style.use(['fivethirtyeight', 'dark_background'])\n",
        "\n",
        "from sklearn.preprocessing import StandardScaler\n",
        "from sklearn.decomposition import PCA\n",
        "from sklearn.cluster import KMeans\n",
        "from sklearn.covariance import EllipticEnvelope\n",
        "from sklearn.ensemble import IsolationForest\n",
        "from sklearn.svm import OneClassSVM\n",
        "from mpl_toolkits.mplot3d import Axes3D\n",
        "from datetime import datetime\n",
        "\n",
        "!pip install pyemma\n",
        "from pyemma import msm\n",
        "%matplotlib inline\n",
        "\n",
        "mpl.rcParams['figure.figsize'] = (10,0)\n",
        "mpl.rcParams['axes.grid'] = False"
      ],
      "execution_count": null,
      "outputs": [
        {
          "output_type": "stream",
          "text": [
            "Collecting pyemma\n",
            "\u001b[?25l  Downloading https://files.pythonhosted.org/packages/c4/a5/4dd5a28342db2d7664bfea39afb5945de82ed72ceca7230509b9615e1241/pyEMMA-2.5.9.tar.gz (1.6MB)\n",
            "\u001b[K     |████████████████████████████████| 1.6MB 7.9MB/s \n",
            "\u001b[?25h  Installing build dependencies ... \u001b[?25l\u001b[?25hdone\n",
            "  Getting requirements to build wheel ... \u001b[?25l\u001b[?25hdone\n",
            "    Preparing wheel metadata ... \u001b[?25l\u001b[?25hdone\n",
            "Requirement already satisfied: pyyaml in /usr/local/lib/python3.7/dist-packages (from pyemma) (3.13)\n",
            "Requirement already satisfied: h5py>=2.7.1 in /usr/local/lib/python3.7/dist-packages (from pyemma) (3.1.0)\n",
            "Requirement already satisfied: tqdm>=4.23 in /usr/local/lib/python3.7/dist-packages (from pyemma) (4.41.1)\n",
            "Requirement already satisfied: psutil>=3.1.1 in /usr/local/lib/python3.7/dist-packages (from pyemma) (5.4.8)\n",
            "Collecting mdtraj>=1.9.2\n",
            "  Using cached https://files.pythonhosted.org/packages/ce/ee/2015ff88cacb7c75b5e1cf6a57e8a089549b0e76bcd9474a08845f7ef12f/mdtraj-1.9.6-cp37-cp37m-manylinux_2_5_x86_64.manylinux1_x86_64.whl\n",
            "Collecting msmtools>=1.2\n",
            "\u001b[?25l  Downloading https://files.pythonhosted.org/packages/e4/1f/366f5c37c1231f87b6789f904e4e68ae47b4b910119da9ec5905e9fa1387/msmtools-1.2.6.tar.gz (603kB)\n",
            "\u001b[K     |████████████████████████████████| 604kB 20.3MB/s \n",
            "\u001b[?25h  Installing build dependencies ... \u001b[?25l\u001b[?25hdone\n",
            "  Getting requirements to build wheel ... \u001b[?25l\u001b[?25hdone\n",
            "    Preparing wheel metadata ... \u001b[?25l\u001b[?25hdone\n",
            "Processing /root/.cache/pip/wheels/25/fa/d4/2d529663df8239bb1ca76e22134513dde18665eaa7861882de/deeptime-0.2.7-cp37-cp37m-linux_x86_64.whl\n",
            "Requirement already satisfied: matplotlib in /usr/local/lib/python3.7/dist-packages (from pyemma) (3.2.2)\n",
            "Collecting pathos\n",
            "\u001b[?25l  Downloading https://files.pythonhosted.org/packages/23/6b/7ffe02bdb5f5cf4b2290cc906b415dde7c886dbb11928dda40d39e6654dd/pathos-0.2.8-py2.py3-none-any.whl (81kB)\n",
            "\u001b[K     |████████████████████████████████| 81kB 6.9MB/s \n",
            "\u001b[?25hCollecting bhmm<0.7,>=0.6\n",
            "\u001b[?25l  Downloading https://files.pythonhosted.org/packages/ac/91/27b35bfc73cfe529ed9d4133b2fa20180ccaa2c6c9f55e49779f1319ecf0/bhmm-0.6.3.tar.gz (318kB)\n",
            "\u001b[K     |████████████████████████████████| 327kB 38.9MB/s \n",
            "\u001b[?25hRequirement already satisfied: numpy>=1.8.0 in /usr/local/lib/python3.7/dist-packages (from pyemma) (1.19.5)\n",
            "Requirement already satisfied: decorator>=4.0.0 in /usr/local/lib/python3.7/dist-packages (from pyemma) (4.4.2)\n",
            "Requirement already satisfied: scipy>=0.11 in /usr/local/lib/python3.7/dist-packages (from pyemma) (1.4.1)\n",
            "Requirement already satisfied: cached-property; python_version < \"3.8\" in /usr/local/lib/python3.7/dist-packages (from h5py>=2.7.1->pyemma) (1.5.2)\n",
            "Requirement already satisfied: astunparse in /usr/local/lib/python3.7/dist-packages (from mdtraj>=1.9.2->pyemma) (1.6.3)\n",
            "Requirement already satisfied: pyparsing in /usr/local/lib/python3.7/dist-packages (from mdtraj>=1.9.2->pyemma) (2.4.7)\n",
            "Requirement already satisfied: scikit-learn in /usr/local/lib/python3.7/dist-packages (from deeptime->pyemma) (0.22.2.post1)\n",
            "Requirement already satisfied: python-dateutil>=2.1 in /usr/local/lib/python3.7/dist-packages (from matplotlib->pyemma) (2.8.1)\n",
            "Requirement already satisfied: kiwisolver>=1.0.1 in /usr/local/lib/python3.7/dist-packages (from matplotlib->pyemma) (1.3.1)\n",
            "Requirement already satisfied: cycler>=0.10 in /usr/local/lib/python3.7/dist-packages (from matplotlib->pyemma) (0.10.0)\n",
            "Collecting ppft>=1.6.6.4\n",
            "\u001b[?25l  Downloading https://files.pythonhosted.org/packages/e1/95/17253538621d21308a6e7ca67cd8f87c64e81f95477e57ee78766cf79aaa/ppft-1.6.6.4-py3-none-any.whl (65kB)\n",
            "\u001b[K     |████████████████████████████████| 71kB 8.3MB/s \n",
            "\u001b[?25hRequirement already satisfied: dill>=0.3.4 in /usr/local/lib/python3.7/dist-packages (from pathos->pyemma) (0.3.4)\n",
            "Collecting pox>=0.3.0\n",
            "  Downloading https://files.pythonhosted.org/packages/25/6e/7bc83d285dd0438f6ba106dba4fa85e569b09bae14f3c8d9df7acdc92629/pox-0.3.0-py2.py3-none-any.whl\n",
            "Requirement already satisfied: multiprocess>=0.70.12 in /usr/local/lib/python3.7/dist-packages (from pathos->pyemma) (0.70.12.2)\n",
            "Requirement already satisfied: six in /usr/local/lib/python3.7/dist-packages (from bhmm<0.7,>=0.6->pyemma) (1.15.0)\n",
            "Requirement already satisfied: wheel<1.0,>=0.23.0 in /usr/local/lib/python3.7/dist-packages (from astunparse->mdtraj>=1.9.2->pyemma) (0.36.2)\n",
            "Requirement already satisfied: joblib>=0.11 in /usr/local/lib/python3.7/dist-packages (from scikit-learn->deeptime->pyemma) (1.0.1)\n",
            "Building wheels for collected packages: pyemma, msmtools\n",
            "  Building wheel for pyemma (PEP 517) ... \u001b[?25l\u001b[?25hdone\n",
            "  Created wheel for pyemma: filename=pyEMMA-2.5.9-cp37-cp37m-linux_x86_64.whl size=2498751 sha256=7d82ba0a79c57e8412d0caac2386b9cdad9d15fcef5e5c9561f875ef6de31012\n",
            "  Stored in directory: /root/.cache/pip/wheels/b7/4b/1c/4dd8767dcf0784a22780241cc9343f3fc7876abc4af750d1d9\n",
            "  Building wheel for msmtools (PEP 517) ... \u001b[?25l\u001b[?25hdone\n",
            "  Created wheel for msmtools: filename=msmtools-1.2.6-cp37-cp37m-linux_x86_64.whl size=1307211 sha256=f5f40e0549543671fce5ae2cec33dd383a19a8ad9c9907ab32d6cd49c4200024\n",
            "  Stored in directory: /root/.cache/pip/wheels/80/03/5c/21bc892790f7dbb5c60062cc5b941e3ad843fd9273a18e65c5\n",
            "Successfully built pyemma msmtools\n",
            "Building wheels for collected packages: bhmm\n",
            "  Building wheel for bhmm (setup.py) ... \u001b[?25l\u001b[?25hdone\n",
            "  Created wheel for bhmm: filename=bhmm-0.6.3-cp37-cp37m-linux_x86_64.whl size=579622 sha256=d09de6c1cc11024d6a13b04cfdfdda26c73972dfdeb243d70c6efb50d6f4408b\n",
            "  Stored in directory: /root/.cache/pip/wheels/56/74/58/35a8646f14175948d0036c9636ae4a1e1b15db55dd1507b0af\n",
            "Successfully built bhmm\n",
            "Installing collected packages: mdtraj, msmtools, deeptime, ppft, pox, pathos, bhmm, pyemma\n",
            "Successfully installed bhmm-0.6.3 deeptime-0.2.7 mdtraj-1.9.6 msmtools-1.2.6 pathos-0.2.8 pox-0.3.0 ppft-1.6.6.4 pyemma-2.5.9\n"
          ],
          "name": "stdout"
        }
      ]
    },
    {
      "cell_type": "code",
      "metadata": {
        "id": "_l7ntR9Tj7Nf"
      },
      "source": [
        "#training_filename = '/content/train.csv'\n",
        "training_filename = '/content/train (1).csv'\n",
        " \n",
        "# Path from data folder to the validation file\n",
        "valid_filename = '/content/test.csv'\n",
        "\n",
        "#labels_filepath = '/content/labels.json'\n",
        "#labels_loading.py\n",
        "#with open(labels_filepath, 'r') as f:\n",
        " #   anomalies_timestamps = json.load(f)"
      ],
      "execution_count": null,
      "outputs": []
    },
    {
      "cell_type": "code",
      "metadata": {
        "id": "ch3pCEfwj-OC"
      },
      "source": [
        "train = pd.read_csv(training_filename)\n",
        "test = pd.read_csv(valid_filename)"
      ],
      "execution_count": null,
      "outputs": []
    },
    {
      "cell_type": "code",
      "metadata": {
        "id": "aQd62h_HkEsC"
      },
      "source": [
        "def parse_and_standardize(df: pd.DataFrame, scaler: StandardScaler = None):\n",
        "    df['timestamp'] = pd.to_datetime(df['timestamp'])\n",
        "    df['stand_value'] = df['value']\n",
        "    if not scaler:\n",
        "        scaler = StandardScaler()\n",
        "        scaler.fit(df['stand_value'].values.reshape(-1, 1))\n",
        "    df['stand_value'] = scaler.transform(df['stand_value'].values.reshape(-1, 1))\n",
        "    return scaler\n",
        "\n",
        "data_scaler = parse_and_standardize(train)\n",
        "#parse_and_standardize(valid, data_scaler)"
      ],
      "execution_count": null,
      "outputs": []
    },
    {
      "cell_type": "code",
      "metadata": {
        "id": "29tvzrtokIVP"
      },
      "source": [
        "import plotly.graph_objects as go"
      ],
      "execution_count": null,
      "outputs": []
    },
    {
      "cell_type": "code",
      "metadata": {
        "id": "JPNSBG7Fgq8G"
      },
      "source": [
        "train = train.set_index('timestamp').resample(\"H\").mean().reset_index()"
      ],
      "execution_count": null,
      "outputs": []
    },
    {
      "cell_type": "code",
      "metadata": {
        "colab": {
          "base_uri": "https://localhost:8080/",
          "height": 419
        },
        "id": "mtTZMjjrg88H",
        "outputId": "282f037b-8a65-4b28-fa33-86bd31f79c64"
      },
      "source": [
        "train"
      ],
      "execution_count": null,
      "outputs": [
        {
          "output_type": "execute_result",
          "data": {
            "text/html": [
              "<div>\n",
              "<style scoped>\n",
              "    .dataframe tbody tr th:only-of-type {\n",
              "        vertical-align: middle;\n",
              "    }\n",
              "\n",
              "    .dataframe tbody tr th {\n",
              "        vertical-align: top;\n",
              "    }\n",
              "\n",
              "    .dataframe thead th {\n",
              "        text-align: right;\n",
              "    }\n",
              "</style>\n",
              "<table border=\"1\" class=\"dataframe\">\n",
              "  <thead>\n",
              "    <tr style=\"text-align: right;\">\n",
              "      <th></th>\n",
              "      <th>timestamp</th>\n",
              "      <th>value</th>\n",
              "      <th>stand_value</th>\n",
              "    </tr>\n",
              "  </thead>\n",
              "  <tbody>\n",
              "    <tr>\n",
              "      <th>0</th>\n",
              "      <td>2014-01-02 00:00:00</td>\n",
              "      <td>8.249240</td>\n",
              "      <td>1.594537</td>\n",
              "    </tr>\n",
              "    <tr>\n",
              "      <th>1</th>\n",
              "      <td>2014-01-02 01:00:00</td>\n",
              "      <td>9.052508</td>\n",
              "      <td>1.941178</td>\n",
              "    </tr>\n",
              "    <tr>\n",
              "      <th>2</th>\n",
              "      <td>2014-01-02 02:00:00</td>\n",
              "      <td>8.383754</td>\n",
              "      <td>1.652585</td>\n",
              "    </tr>\n",
              "    <tr>\n",
              "      <th>3</th>\n",
              "      <td>2014-01-02 03:00:00</td>\n",
              "      <td>8.695511</td>\n",
              "      <td>1.787120</td>\n",
              "    </tr>\n",
              "    <tr>\n",
              "      <th>4</th>\n",
              "      <td>2014-01-02 04:00:00</td>\n",
              "      <td>8.709995</td>\n",
              "      <td>1.793371</td>\n",
              "    </tr>\n",
              "    <tr>\n",
              "      <th>...</th>\n",
              "      <td>...</td>\n",
              "      <td>...</td>\n",
              "      <td>...</td>\n",
              "    </tr>\n",
              "    <tr>\n",
              "      <th>8059</th>\n",
              "      <td>2014-12-03 19:00:00</td>\n",
              "      <td>1.229296</td>\n",
              "      <td>-1.434831</td>\n",
              "    </tr>\n",
              "    <tr>\n",
              "      <th>8060</th>\n",
              "      <td>2014-12-03 20:00:00</td>\n",
              "      <td>0.955914</td>\n",
              "      <td>-1.552805</td>\n",
              "    </tr>\n",
              "    <tr>\n",
              "      <th>8061</th>\n",
              "      <td>2014-12-03 21:00:00</td>\n",
              "      <td>0.729765</td>\n",
              "      <td>-1.650397</td>\n",
              "    </tr>\n",
              "    <tr>\n",
              "      <th>8062</th>\n",
              "      <td>2014-12-03 22:00:00</td>\n",
              "      <td>1.061930</td>\n",
              "      <td>-1.507056</td>\n",
              "    </tr>\n",
              "    <tr>\n",
              "      <th>8063</th>\n",
              "      <td>2014-12-03 23:00:00</td>\n",
              "      <td>0.986490</td>\n",
              "      <td>-1.539611</td>\n",
              "    </tr>\n",
              "  </tbody>\n",
              "</table>\n",
              "<p>8064 rows × 3 columns</p>\n",
              "</div>"
            ],
            "text/plain": [
              "               timestamp     value  stand_value\n",
              "0    2014-01-02 00:00:00  8.249240     1.594537\n",
              "1    2014-01-02 01:00:00  9.052508     1.941178\n",
              "2    2014-01-02 02:00:00  8.383754     1.652585\n",
              "3    2014-01-02 03:00:00  8.695511     1.787120\n",
              "4    2014-01-02 04:00:00  8.709995     1.793371\n",
              "...                  ...       ...          ...\n",
              "8059 2014-12-03 19:00:00  1.229296    -1.434831\n",
              "8060 2014-12-03 20:00:00  0.955914    -1.552805\n",
              "8061 2014-12-03 21:00:00  0.729765    -1.650397\n",
              "8062 2014-12-03 22:00:00  1.061930    -1.507056\n",
              "8063 2014-12-03 23:00:00  0.986490    -1.539611\n",
              "\n",
              "[8064 rows x 3 columns]"
            ]
          },
          "metadata": {
            "tags": []
          },
          "execution_count": 7
        }
      ]
    },
    {
      "cell_type": "code",
      "metadata": {
        "colab": {
          "base_uri": "https://localhost:8080/",
          "height": 340
        },
        "id": "N49e-Ohz3JQP",
        "outputId": "24d7f9d7-3878-41af-c874-c3c204cf7700"
      },
      "source": [
        "max_features=1.0\n",
        "n_estimators=50\n",
        "max_samples='auto'\n",
        "contamination=float(0.2)\n",
        "forest_model=IsolationForest(max_features = max_features, n_estimators=n_estimators, max_samples=max_samples, contamination=contamination)\n",
        "forest_model.fit(train[['value']])"
      ],
      "execution_count": null,
      "outputs": [
        {
          "output_type": "error",
          "ename": "ValueError",
          "evalue": "ignored",
          "traceback": [
            "\u001b[0;31m---------------------------------------------------------------------------\u001b[0m",
            "\u001b[0;31mValueError\u001b[0m                                Traceback (most recent call last)",
            "\u001b[0;32m<ipython-input-9-9acfb5cdb567>\u001b[0m in \u001b[0;36m<module>\u001b[0;34m()\u001b[0m\n\u001b[1;32m      4\u001b[0m \u001b[0mcontamination\u001b[0m\u001b[0;34m=\u001b[0m\u001b[0mfloat\u001b[0m\u001b[0;34m(\u001b[0m\u001b[0;36m0.2\u001b[0m\u001b[0;34m)\u001b[0m\u001b[0;34m\u001b[0m\u001b[0;34m\u001b[0m\u001b[0m\n\u001b[1;32m      5\u001b[0m \u001b[0mforest_model\u001b[0m\u001b[0;34m=\u001b[0m\u001b[0mIsolationForest\u001b[0m\u001b[0;34m(\u001b[0m\u001b[0mmax_features\u001b[0m \u001b[0;34m=\u001b[0m \u001b[0mmax_features\u001b[0m\u001b[0;34m,\u001b[0m \u001b[0mn_estimators\u001b[0m\u001b[0;34m=\u001b[0m\u001b[0mn_estimators\u001b[0m\u001b[0;34m,\u001b[0m \u001b[0mmax_samples\u001b[0m\u001b[0;34m=\u001b[0m\u001b[0mmax_samples\u001b[0m\u001b[0;34m,\u001b[0m \u001b[0mcontamination\u001b[0m\u001b[0;34m=\u001b[0m\u001b[0mcontamination\u001b[0m\u001b[0;34m)\u001b[0m\u001b[0;34m\u001b[0m\u001b[0;34m\u001b[0m\u001b[0m\n\u001b[0;32m----> 6\u001b[0;31m \u001b[0mforest_model\u001b[0m\u001b[0;34m.\u001b[0m\u001b[0mfit\u001b[0m\u001b[0;34m(\u001b[0m\u001b[0mtrain\u001b[0m\u001b[0;34m[\u001b[0m\u001b[0;34m[\u001b[0m\u001b[0;34m'value'\u001b[0m\u001b[0;34m]\u001b[0m\u001b[0;34m]\u001b[0m\u001b[0;34m)\u001b[0m\u001b[0;34m\u001b[0m\u001b[0;34m\u001b[0m\u001b[0m\n\u001b[0m",
            "\u001b[0;32m/usr/local/lib/python3.7/dist-packages/sklearn/ensemble/_iforest.py\u001b[0m in \u001b[0;36mfit\u001b[0;34m(self, X, y, sample_weight)\u001b[0m\n\u001b[1;32m    254\u001b[0m                 )\n\u001b[1;32m    255\u001b[0m \u001b[0;34m\u001b[0m\u001b[0m\n\u001b[0;32m--> 256\u001b[0;31m         \u001b[0mX\u001b[0m \u001b[0;34m=\u001b[0m \u001b[0mcheck_array\u001b[0m\u001b[0;34m(\u001b[0m\u001b[0mX\u001b[0m\u001b[0;34m,\u001b[0m \u001b[0maccept_sparse\u001b[0m\u001b[0;34m=\u001b[0m\u001b[0;34m[\u001b[0m\u001b[0;34m'csc'\u001b[0m\u001b[0;34m]\u001b[0m\u001b[0;34m)\u001b[0m\u001b[0;34m\u001b[0m\u001b[0;34m\u001b[0m\u001b[0m\n\u001b[0m\u001b[1;32m    257\u001b[0m         \u001b[0;32mif\u001b[0m \u001b[0missparse\u001b[0m\u001b[0;34m(\u001b[0m\u001b[0mX\u001b[0m\u001b[0;34m)\u001b[0m\u001b[0;34m:\u001b[0m\u001b[0;34m\u001b[0m\u001b[0;34m\u001b[0m\u001b[0m\n\u001b[1;32m    258\u001b[0m             \u001b[0;31m# Pre-sort indices to avoid that each individual tree of the\u001b[0m\u001b[0;34m\u001b[0m\u001b[0;34m\u001b[0m\u001b[0;34m\u001b[0m\u001b[0m\n",
            "\u001b[0;32m/usr/local/lib/python3.7/dist-packages/sklearn/utils/validation.py\u001b[0m in \u001b[0;36mcheck_array\u001b[0;34m(array, accept_sparse, accept_large_sparse, dtype, order, copy, force_all_finite, ensure_2d, allow_nd, ensure_min_samples, ensure_min_features, warn_on_dtype, estimator)\u001b[0m\n\u001b[1;32m    576\u001b[0m         \u001b[0;32mif\u001b[0m \u001b[0mforce_all_finite\u001b[0m\u001b[0;34m:\u001b[0m\u001b[0;34m\u001b[0m\u001b[0;34m\u001b[0m\u001b[0m\n\u001b[1;32m    577\u001b[0m             _assert_all_finite(array,\n\u001b[0;32m--> 578\u001b[0;31m                                allow_nan=force_all_finite == 'allow-nan')\n\u001b[0m\u001b[1;32m    579\u001b[0m \u001b[0;34m\u001b[0m\u001b[0m\n\u001b[1;32m    580\u001b[0m     \u001b[0;32mif\u001b[0m \u001b[0mensure_min_samples\u001b[0m \u001b[0;34m>\u001b[0m \u001b[0;36m0\u001b[0m\u001b[0;34m:\u001b[0m\u001b[0;34m\u001b[0m\u001b[0;34m\u001b[0m\u001b[0m\n",
            "\u001b[0;32m/usr/local/lib/python3.7/dist-packages/sklearn/utils/validation.py\u001b[0m in \u001b[0;36m_assert_all_finite\u001b[0;34m(X, allow_nan, msg_dtype)\u001b[0m\n\u001b[1;32m     58\u001b[0m                     \u001b[0mmsg_err\u001b[0m\u001b[0;34m.\u001b[0m\u001b[0mformat\u001b[0m\u001b[0;34m\u001b[0m\u001b[0;34m\u001b[0m\u001b[0m\n\u001b[1;32m     59\u001b[0m                     (type_err,\n\u001b[0;32m---> 60\u001b[0;31m                      msg_dtype if msg_dtype is not None else X.dtype)\n\u001b[0m\u001b[1;32m     61\u001b[0m             )\n\u001b[1;32m     62\u001b[0m     \u001b[0;31m# for object dtype data, we only check for NaNs (GH-13254)\u001b[0m\u001b[0;34m\u001b[0m\u001b[0;34m\u001b[0m\u001b[0;34m\u001b[0m\u001b[0m\n",
            "\u001b[0;31mValueError\u001b[0m: Input contains NaN, infinity or a value too large for dtype('float64')."
          ]
        }
      ]
    },
    {
      "cell_type": "code",
      "metadata": {
        "id": "5mIuj7HL33My"
      },
      "source": [
        "train['scores']=forest_model.decision_function(train[['value']])\n",
        "train['anomaly_Value']=forest_model.predict(train[['value']])\n",
        "train.head(10)"
      ],
      "execution_count": null,
      "outputs": []
    },
    {
      "cell_type": "code",
      "metadata": {
        "id": "_VXfGzyr5CC7"
      },
      "source": [
        "outliers_counter = len(train[train['value'] < 1]) + len(train[train['value'] > 4.4])\n",
        "outliers_counter"
      ],
      "execution_count": null,
      "outputs": []
    },
    {
      "cell_type": "code",
      "metadata": {
        "id": "4LHuxX2l5uQb"
      },
      "source": [
        "print(\"Accuracy percentage:\", 100*list(train['anomaly_Value']).count(-1)/(outliers_counter))"
      ],
      "execution_count": null,
      "outputs": []
    },
    {
      "cell_type": "code",
      "metadata": {
        "id": "yYhbTXRe6yTU"
      },
      "source": [
        "# visualization\n",
        "fig, ax = plt.subplots(figsize=(15,8))\n",
        "a = train.loc[train['anomaly_Value'] == -1, ['value']] #anomaly\n",
        "ax.plot(train.index, train['value'], color='blue', label = 'Normal')\n",
        "ax.scatter(a.index,a['value'], color='red', label = 'Anomaly')\n",
        "plt.legend()\n",
        "plt.show();"
      ],
      "execution_count": null,
      "outputs": []
    },
    {
      "cell_type": "code",
      "metadata": {
        "id": "sQGuq3NMGozf"
      },
      "source": [
        "layout = dict(xaxis=dict(title='Timestamp'), yaxis=dict(title='Battery Temperature'))\n",
        "fig = go.Figure(data=go.Scatter(x=train['timestamp'],\n",
        "                                y=train['value'],\n",
        "                                mode='markers',\n",
        "                                marker_color=train['value'],\n",
        "                                text=train['timestamp'])) # hover text goes here\n",
        "\n",
        "\n",
        "fig.update_layout(title='Battery Temperature')\n",
        "fig.show()"
      ],
      "execution_count": null,
      "outputs": []
    },
    {
      "cell_type": "code",
      "metadata": {
        "id": "y_R4SV4VIYi0"
      },
      "source": [
        "from sklearn.metrics import precision_recall_fscore_support"
      ],
      "execution_count": null,
      "outputs": []
    },
    {
      "cell_type": "code",
      "metadata": {
        "id": "kRlg47mPFqav"
      },
      "source": [
        "precision, recall, f1, _ = precision_recall_fscore_support(\n",
        "        ['anomaly'], predictions['predicted_anomaly'], beta=2., average='binary'\n",
        "    )"
      ],
      "execution_count": null,
      "outputs": []
    },
    {
      "cell_type": "code",
      "metadata": {
        "id": "r8AxcDjI9KUm"
      },
      "source": [
        "print(f'Train:\\n Precision: {train_metrics[0]:.3f}\\n Recall: {train_metrics[1]:.3f}\\n F1 score: {train_metrics[2]:.3f}')"
      ],
      "execution_count": null,
      "outputs": []
    },
    {
      "cell_type": "code",
      "metadata": {
        "id": "fOG3wfAk7Nff"
      },
      "source": [
        "forest_model.predict(test)"
      ],
      "execution_count": null,
      "outputs": []
    },
    {
      "cell_type": "code",
      "metadata": {
        "id": "tJ22cHfQ7iY0"
      },
      "source": [
        "anomaly_Value=train.loc[train['anomaly_Value']==-1]\n",
        "anomaly_index=list(anomaly_Value.index)\n",
        "print(anomaly_Value)"
      ],
      "execution_count": null,
      "outputs": []
    },
    {
      "cell_type": "code",
      "metadata": {
        "id": "9rtQZOxK_kNv"
      },
      "source": [
        "import plotly.express as px\n",
        "train['anomaly']=train['anomaly_Value'].apply(lambda x: 'outlier' if x==-1  else 'inlier')\n",
        "fig=px.histogram(train,x='scores',color='anomaly')\n",
        "fig.show()"
      ],
      "execution_count": null,
      "outputs": []
    },
    {
      "cell_type": "code",
      "metadata": {
        "id": "v3v0cl5NAK2v"
      },
      "source": [
        "fig = px.scatter_3d(train,x='timestamp',\n",
        "                       y='value',\n",
        "                       z='anomaly',\n",
        "                       color='anomaly', size_max=18, opacity=0.7)\n",
        "#fig.show()\n",
        "# tight layout\n",
        "fig.update_layout(margin=dict(l=0, r=0, b=0, t=0))"
      ],
      "execution_count": null,
      "outputs": []
    }
  ]
}